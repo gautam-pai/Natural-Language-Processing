{
 "cells": [
  {
   "cell_type": "code",
   "execution_count": 1,
   "id": "81f35257-a10a-4dda-97aa-fbed73b9cd05",
   "metadata": {},
   "outputs": [],
   "source": [
    "words = [\n",
    "    \"Running\", \"Jumps\", \"Happily\", \"Books\", \"Children\", \"Caring\", \"Played\", \"Studying\", \n",
    "    \"Better\", \"Quickest\", \"Laziness\", \"National\", \"Runners\", \"Wants\", \"Loving\", \"Helping\", \n",
    "    \"Stronger\", \"Organized\", \"Thoughtful\", \"Faster\", \"Singing\", \"Eating\", \"Dancer\", \"Writer\", \n",
    "    \"Exploring\"\n",
    "]\n"
   ]
  },
  {
   "cell_type": "code",
   "execution_count": 2,
   "id": "f73592bf-e5c3-4bd3-a6e6-5863fc021f17",
   "metadata": {},
   "outputs": [],
   "source": [
    "## Porter Stemmer"
   ]
  },
  {
   "cell_type": "code",
   "execution_count": 3,
   "id": "c6ff7b97-6c92-44e6-b294-356746c32d59",
   "metadata": {},
   "outputs": [],
   "source": [
    "from nltk.stem import PorterStemmer"
   ]
  },
  {
   "cell_type": "code",
   "execution_count": 4,
   "id": "873ab096-0785-4187-99ac-a85405264790",
   "metadata": {},
   "outputs": [],
   "source": [
    "stemmer=PorterStemmer()"
   ]
  },
  {
   "cell_type": "code",
   "execution_count": 5,
   "id": "1e2250eb-dc24-4c33-9b9c-2765e6190f73",
   "metadata": {},
   "outputs": [
    {
     "name": "stdout",
     "output_type": "stream",
     "text": [
      "Running--->run\n",
      "Jumps--->jump\n",
      "Happily--->happili\n",
      "Books--->book\n",
      "Children--->children\n",
      "Caring--->care\n",
      "Played--->play\n",
      "Studying--->studi\n",
      "Better--->better\n",
      "Quickest--->quickest\n",
      "Laziness--->lazi\n",
      "National--->nation\n",
      "Runners--->runner\n",
      "Wants--->want\n",
      "Loving--->love\n",
      "Helping--->help\n",
      "Stronger--->stronger\n",
      "Organized--->organ\n",
      "Thoughtful--->thought\n",
      "Faster--->faster\n",
      "Singing--->sing\n",
      "Eating--->eat\n",
      "Dancer--->dancer\n",
      "Writer--->writer\n",
      "Exploring--->explor\n"
     ]
    }
   ],
   "source": [
    "for word in words:\n",
    "    print(word+\"--->\"+stemmer.stem(word))"
   ]
  },
  {
   "cell_type": "code",
   "execution_count": 6,
   "id": "7e60d0e8-7283-42b3-9e55-dc1f6b30d52f",
   "metadata": {},
   "outputs": [],
   "source": [
    "## Here we can see that some of the words are wrong\n",
    "## Happily  ---> happili\n",
    "## Studying ---> studi"
   ]
  },
  {
   "cell_type": "markdown",
   "id": "ccc9b95d-0a20-4321-a7d1-5a6e6dfcd46c",
   "metadata": {},
   "source": [
    "### RegExp Stemmer class"
   ]
  },
  {
   "cell_type": "code",
   "execution_count": 7,
   "id": "7f198e58-d90a-4370-b1d4-6d5088f41654",
   "metadata": {},
   "outputs": [],
   "source": [
    "from nltk.stem import RegexpStemmer"
   ]
  },
  {
   "cell_type": "code",
   "execution_count": 9,
   "id": "715bab8c-ff24-42a0-a2b2-d0ba57a585fd",
   "metadata": {},
   "outputs": [],
   "source": [
    "reg_stem = RegexpStemmer('ing$|s$|e$|able$', min=4)"
   ]
  },
  {
   "cell_type": "code",
   "execution_count": 10,
   "id": "4b2f6d6a-6024-4f8a-94df-63db4243b9ef",
   "metadata": {},
   "outputs": [
    {
     "data": {
      "text/plain": [
       "'eat'"
      ]
     },
     "execution_count": 10,
     "metadata": {},
     "output_type": "execute_result"
    }
   ],
   "source": [
    "reg_stem.stem('eating')"
   ]
  },
  {
   "cell_type": "code",
   "execution_count": null,
   "id": "3f0f8ace-e71a-4c7e-b662-2d148c6e163a",
   "metadata": {},
   "outputs": [],
   "source": [
    "## Here what is happening is we have passed ing,s,e,able as the regexp input. Wherever it finds this patern, it jsut removes that"
   ]
  },
  {
   "cell_type": "code",
   "execution_count": 11,
   "id": "ebb95140-978f-4403-b3ee-821a95395771",
   "metadata": {},
   "outputs": [
    {
     "data": {
      "text/plain": [
       "'eatinng'"
      ]
     },
     "execution_count": 11,
     "metadata": {},
     "output_type": "execute_result"
    }
   ],
   "source": [
    "reg_stem.stem('eatinng') ## Here the sequence doesnt match the regexp, so it is not removed."
   ]
  },
  {
   "cell_type": "code",
   "execution_count": 12,
   "id": "cd66c551-ee9f-4812-abcb-6a69cc6f00a0",
   "metadata": {},
   "outputs": [
    {
     "data": {
      "text/plain": [
       "'eaten'"
      ]
     },
     "execution_count": 12,
     "metadata": {},
     "output_type": "execute_result"
    }
   ],
   "source": [
    "reg_stem.stem('eaten')"
   ]
  },
  {
   "cell_type": "code",
   "execution_count": 13,
   "id": "b816d347-22d2-4005-b5b1-859ba6bbfc1c",
   "metadata": {
    "scrolled": true
   },
   "outputs": [
    {
     "name": "stdout",
     "output_type": "stream",
     "text": [
      "Running--->Runn\n",
      "Jumps--->Jump\n",
      "Happily--->Happily\n",
      "Books--->Book\n",
      "Children--->Children\n",
      "Caring--->Car\n",
      "Played--->Played\n",
      "Studying--->Study\n",
      "Better--->Better\n",
      "Quickest--->Quickest\n",
      "Laziness--->Lazines\n",
      "National--->National\n",
      "Runners--->Runner\n",
      "Wants--->Want\n",
      "Loving--->Lov\n",
      "Helping--->Help\n",
      "Stronger--->Stronger\n",
      "Organized--->Organized\n",
      "Thoughtful--->Thoughtful\n",
      "Faster--->Faster\n",
      "Singing--->Sing\n",
      "Eating--->Eat\n",
      "Dancer--->Dancer\n",
      "Writer--->Writer\n",
      "Exploring--->Explor\n"
     ]
    }
   ],
   "source": [
    "for word in words:\n",
    "    print(word+\"--->\"+reg_stem.stem(word))"
   ]
  },
  {
   "cell_type": "markdown",
   "id": "6656d6d3-328b-45c5-93c2-80676f9c1501",
   "metadata": {},
   "source": [
    "### Snowball Stemmer"
   ]
  },
  {
   "cell_type": "code",
   "execution_count": 14,
   "id": "81103be9-47e5-43a2-be09-5f7f4768bbc6",
   "metadata": {},
   "outputs": [],
   "source": [
    "from nltk.stem import SnowballStemmer"
   ]
  },
  {
   "cell_type": "code",
   "execution_count": 16,
   "id": "e6f7907c-98bf-4151-9928-f04bbbed54bf",
   "metadata": {},
   "outputs": [],
   "source": [
    "stemmer=SnowballStemmer('english')"
   ]
  },
  {
   "cell_type": "code",
   "execution_count": 18,
   "id": "7b91baf4-05aa-4915-aca0-64447aade247",
   "metadata": {},
   "outputs": [
    {
     "name": "stdout",
     "output_type": "stream",
     "text": [
      "Running--->run\n",
      "Jumps--->jump\n",
      "Happily--->happili\n",
      "Books--->book\n",
      "Children--->children\n",
      "Caring--->care\n",
      "Played--->play\n",
      "Studying--->studi\n",
      "Better--->better\n",
      "Quickest--->quickest\n",
      "Laziness--->lazi\n",
      "National--->nation\n",
      "Runners--->runner\n",
      "Wants--->want\n",
      "Loving--->love\n",
      "Helping--->help\n",
      "Stronger--->stronger\n",
      "Organized--->organ\n",
      "Thoughtful--->thought\n",
      "Faster--->faster\n",
      "Singing--->sing\n",
      "Eating--->eat\n",
      "Dancer--->dancer\n",
      "Writer--->writer\n",
      "Exploring--->explor\n"
     ]
    }
   ],
   "source": [
    "# This is better than porter stemmer, but not completely accurate\n",
    "for word in words:\n",
    "    print(word+\"--->\"+stemmer.stem(word))"
   ]
  },
  {
   "cell_type": "code",
   "execution_count": null,
   "id": "fe26b647-bb81-4ae9-892e-7ee214122626",
   "metadata": {},
   "outputs": [],
   "source": []
  },
  {
   "cell_type": "code",
   "execution_count": null,
   "id": "2ffc9228-ebb6-433f-9846-5247a25f2a24",
   "metadata": {},
   "outputs": [],
   "source": []
  },
  {
   "cell_type": "code",
   "execution_count": null,
   "id": "7a5f587d-1c82-409b-93d1-051f726312c9",
   "metadata": {},
   "outputs": [],
   "source": []
  }
 ],
 "metadata": {
  "kernelspec": {
   "display_name": "Python 3 (ipykernel)",
   "language": "python",
   "name": "python3"
  },
  "language_info": {
   "codemirror_mode": {
    "name": "ipython",
    "version": 3
   },
   "file_extension": ".py",
   "mimetype": "text/x-python",
   "name": "python",
   "nbconvert_exporter": "python",
   "pygments_lexer": "ipython3",
   "version": "3.12.4"
  }
 },
 "nbformat": 4,
 "nbformat_minor": 5
}
