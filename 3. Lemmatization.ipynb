{
 "cells": [
  {
   "cell_type": "markdown",
   "id": "002815ff-d92a-498f-b89a-c4ddececc84a",
   "metadata": {},
   "source": [
    "### Wordnet Lemmatizer"
   ]
  },
  {
   "cell_type": "code",
   "execution_count": 1,
   "id": "00dcce54-5e16-4c92-bd11-2fe21ec64f87",
   "metadata": {},
   "outputs": [],
   "source": [
    "from nltk.stem import WordNetLemmatizer"
   ]
  },
  {
   "cell_type": "code",
   "execution_count": 5,
   "id": "9134326c-df88-4027-8ed5-75d0f9dd47b2",
   "metadata": {},
   "outputs": [
    {
     "name": "stderr",
     "output_type": "stream",
     "text": [
      "[nltk_data] Downloading package wordnet to\n",
      "[nltk_data]     C:\\Users\\gauta\\AppData\\Roaming\\nltk_data...\n"
     ]
    },
    {
     "data": {
      "text/plain": [
       "True"
      ]
     },
     "execution_count": 5,
     "metadata": {},
     "output_type": "execute_result"
    }
   ],
   "source": [
    "import nltk\n",
    "nltk.download('wordnet')"
   ]
  },
  {
   "cell_type": "code",
   "execution_count": 15,
   "id": "90e66981-d8aa-4541-b785-0020a34bb093",
   "metadata": {},
   "outputs": [],
   "source": [
    "lemmatizer=WordNetLemmatizer()"
   ]
  },
  {
   "cell_type": "code",
   "execution_count": 16,
   "id": "880fe830-e45f-4632-8d8e-524c6224298e",
   "metadata": {},
   "outputs": [
    {
     "data": {
      "text/plain": [
       "'going'"
      ]
     },
     "execution_count": 16,
     "metadata": {},
     "output_type": "execute_result"
    }
   ],
   "source": [
    "lemmatizer.lemmatize('going')"
   ]
  },
  {
   "cell_type": "code",
   "execution_count": null,
   "id": "0304d593-a3d2-4047-9a2c-b6db1e982cc2",
   "metadata": {},
   "outputs": [],
   "source": [
    "## Here we have to pass another variable i.e 'pos'\n",
    "## "
   ]
  },
  {
   "cell_type": "code",
   "execution_count": 8,
   "id": "a3e0a4c4-b7eb-4ae4-aa8b-a74607c9296d",
   "metadata": {},
   "outputs": [
    {
     "name": "stdout",
     "output_type": "stream",
     "text": [
      "going\n",
      "go\n",
      "going\n",
      "going\n"
     ]
    }
   ],
   "source": [
    "print(lemmatizer.lemmatize('going',pos='n'))\n",
    "print(lemmatizer.lemmatize('going',pos='v'))\n",
    "print(lemmatizer.lemmatize('going',pos='a'))\n",
    "print(lemmatizer.lemmatize('going',pos='r'))"
   ]
  },
  {
   "cell_type": "code",
   "execution_count": 20,
   "id": "8bcd1bc7-bec6-4a97-8d1c-c659c69b49c0",
   "metadata": {},
   "outputs": [
    {
     "name": "stdout",
     "output_type": "stream",
     "text": [
      "go\n",
      "go\n",
      "goes\n",
      "goes\n"
     ]
    }
   ],
   "source": [
    "print(lemmatizer.lemmatize('goes',pos='n'))\n",
    "print(lemmatizer.lemmatize('goes',pos='v'))\n",
    "print(lemmatizer.lemmatize('goes',pos='a'))\n",
    "print(lemmatizer.lemmatize('goes',pos='r'))"
   ]
  },
  {
   "cell_type": "code",
   "execution_count": null,
   "id": "e4298b45-fd09-4c51-86e0-9526a5d8d042",
   "metadata": {},
   "outputs": [],
   "source": []
  },
  {
   "cell_type": "code",
   "execution_count": null,
   "id": "3dca83ee-8844-41a7-be31-1c74354a5d62",
   "metadata": {},
   "outputs": [],
   "source": []
  }
 ],
 "metadata": {
  "kernelspec": {
   "display_name": "Python 3 (ipykernel)",
   "language": "python",
   "name": "python3"
  },
  "language_info": {
   "codemirror_mode": {
    "name": "ipython",
    "version": 3
   },
   "file_extension": ".py",
   "mimetype": "text/x-python",
   "name": "python",
   "nbconvert_exporter": "python",
   "pygments_lexer": "ipython3",
   "version": "3.12.4"
  }
 },
 "nbformat": 4,
 "nbformat_minor": 5
}
