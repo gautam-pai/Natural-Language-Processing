{
 "cells": [
  {
   "cell_type": "markdown",
   "id": "fc01ef9d-01d2-4b19-ac84-b859564f4975",
   "metadata": {},
   "source": [
    "### Parts of speech tags"
   ]
  },
  {
   "cell_type": "code",
   "execution_count": 1,
   "id": "1de5b4a7-6ba6-4996-a8f1-c46beb2442ac",
   "metadata": {},
   "outputs": [],
   "source": [
    "paragraph=\"\"\"Good morning, everyone!\n",
    "Today, I want to talk about the power of words and how they shape our understanding of the world.\n",
    "Words are everywhere. They are in the books we read, the songs we sing, and the conversations we have. But not all words carry the same weight. Some words, like love, freedom, and change, inspire us. Others, like the, and, and is, simply connect ideas together.\n",
    "In life, we often focus on the big ideas. However, we must not overlook the smaller things that help us communicate. For example, the sun rises in the east. Here, words like the and in might seem unimportant, but they help the sentence make sense.\n",
    "In the field of technology, particularly in natural language processing, we analyze words to understand their meaning. We call common words like the, and, and is stopwords. These words appear so often that they don’t add much meaning to sentences. For instance, if I say, The cat is on the mat, the important words are cat and mat.\n",
    "By removing stopwords, we can focus on the heart of the message. Whether we are working with sentences, paragraphs, or entire books, filtering out stopwords helps us uncover the true meaning hidden in the text.\n",
    "\n",
    "So, as you explore the power of words, remember this: Sometimes, it’s not the words themselves but the ideas behind them that matter most.\n",
    "\n",
    "Thank you!\"\"\""
   ]
  },
  {
   "cell_type": "code",
   "execution_count": 6,
   "id": "4b7953bc-5bac-4a00-bb98-fe6d4f2a2fe8",
   "metadata": {},
   "outputs": [],
   "source": [
    "from nltk.corpus import stopwords\n",
    "\n",
    "sentences=nltk.sent_tokenize(paragraph)"
   ]
  },
  {
   "cell_type": "code",
   "execution_count": 7,
   "id": "3d1c36a1-55c0-4eed-901e-1179afeaff4b",
   "metadata": {},
   "outputs": [
    {
     "data": {
      "text/plain": [
       "['Good morning, everyone!',\n",
       " 'Today, I want to talk about the power of words and how they shape our understanding of the world.',\n",
       " 'Words are everywhere.',\n",
       " 'They are in the books we read, the songs we sing, and the conversations we have.',\n",
       " 'But not all words carry the same weight.',\n",
       " 'Some words, like love, freedom, and change, inspire us.',\n",
       " 'Others, like the, and, and is, simply connect ideas together.',\n",
       " 'In life, we often focus on the big ideas.',\n",
       " 'However, we must not overlook the smaller things that help us communicate.',\n",
       " 'For example, the sun rises in the east.',\n",
       " 'Here, words like the and in might seem unimportant, but they help the sentence make sense.',\n",
       " 'In the field of technology, particularly in natural language processing, we analyze words to understand their meaning.',\n",
       " 'We call common words like the, and, and is stopwords.',\n",
       " 'These words appear so often that they don’t add much meaning to sentences.',\n",
       " 'For instance, if I say, The cat is on the mat, the important words are cat and mat.',\n",
       " 'By removing stopwords, we can focus on the heart of the message.',\n",
       " 'Whether we are working with sentences, paragraphs, or entire books, filtering out stopwords helps us uncover the true meaning hidden in the text.',\n",
       " 'So, as you explore the power of words, remember this: Sometimes, it’s not the words themselves but the ideas behind them that matter most.',\n",
       " 'Thank you!']"
      ]
     },
     "execution_count": 7,
     "metadata": {},
     "output_type": "execute_result"
    }
   ],
   "source": [
    "sentences\n"
   ]
  },
  {
   "cell_type": "code",
   "execution_count": 10,
   "id": "4840e3fd-494e-45e8-8a56-a7e4cf3697e1",
   "metadata": {},
   "outputs": [
    {
     "name": "stderr",
     "output_type": "stream",
     "text": [
      "[nltk_data] Downloading package averaged_perceptron_tagger to\n",
      "[nltk_data]     C:\\Users\\gauta\\AppData\\Roaming\\nltk_data...\n",
      "[nltk_data]   Unzipping taggers\\averaged_perceptron_tagger.zip.\n"
     ]
    },
    {
     "data": {
      "text/plain": [
       "True"
      ]
     },
     "execution_count": 10,
     "metadata": {},
     "output_type": "execute_result"
    }
   ],
   "source": [
    "import nltk\n",
    "nltk.download('averaged_perceptron_tagger')"
   ]
  },
  {
   "cell_type": "code",
   "execution_count": 11,
   "id": "e605435a-751d-4070-8d08-dd7c222a1f0b",
   "metadata": {},
   "outputs": [
    {
     "name": "stdout",
     "output_type": "stream",
     "text": [
      "[('Good', 'JJ'), ('morning', 'NN'), (',', ','), ('everyone', 'NN'), ('!', '.')]\n",
      "[('Today', 'NN'), (',', ','), ('I', 'PRP'), ('want', 'VBP'), ('talk', 'JJ'), ('power', 'NN'), ('words', 'NNS'), ('shape', 'NN'), ('understanding', 'JJ'), ('world', 'NN'), ('.', '.')]\n",
      "[('Words', 'NNS'), ('everywhere', 'RB'), ('.', '.')]\n",
      "[('They', 'PRP'), ('books', 'NNS'), ('read', 'VBP'), (',', ','), ('songs', 'NNS'), ('sing', 'NN'), (',', ','), ('conversations', 'NNS'), ('.', '.')]\n",
      "[('But', 'CC'), ('words', 'NNS'), ('carry', 'VBP'), ('weight', 'NN'), ('.', '.')]\n",
      "[('Some', 'DT'), ('words', 'NNS'), (',', ','), ('like', 'IN'), ('love', 'NN'), (',', ','), ('freedom', 'NN'), (',', ','), ('change', 'NN'), (',', ','), ('inspire', 'VB'), ('us', 'PRP'), ('.', '.')]\n",
      "[('Others', 'NNS'), (',', ','), ('like', 'IN'), (',', ','), (',', ','), (',', ','), ('simply', 'RB'), ('connect', 'JJ'), ('ideas', 'NNS'), ('together', 'RB'), ('.', '.')]\n",
      "[('In', 'IN'), ('life', 'NN'), (',', ','), ('often', 'RB'), ('focus', 'VBZ'), ('big', 'JJ'), ('ideas', 'NNS'), ('.', '.')]\n",
      "[('However', 'RB'), (',', ','), ('must', 'MD'), ('overlook', 'VB'), ('smaller', 'JJR'), ('things', 'NNS'), ('help', 'VBP'), ('us', 'PRP'), ('communicate', 'VB'), ('.', '.')]\n",
      "[('For', 'IN'), ('example', 'NN'), (',', ','), ('sun', 'NN'), ('rises', 'NNS'), ('east', 'VBP'), ('.', '.')]\n",
      "[('Here', 'RB'), (',', ','), ('words', 'NNS'), ('like', 'IN'), ('might', 'MD'), ('seem', 'VB'), ('unimportant', 'JJ'), (',', ','), ('help', 'JJ'), ('sentence', 'NN'), ('make', 'VBP'), ('sense', 'NN'), ('.', '.')]\n",
      "[('In', 'IN'), ('field', 'NN'), ('technology', 'NN'), (',', ','), ('particularly', 'RB'), ('natural', 'JJ'), ('language', 'NN'), ('processing', 'NN'), (',', ','), ('analyze', 'JJ'), ('words', 'NNS'), ('understand', 'VBP'), ('meaning', 'NN'), ('.', '.')]\n",
      "[('We', 'PRP'), ('call', 'VBP'), ('common', 'JJ'), ('words', 'NNS'), ('like', 'IN'), (',', ','), (',', ','), ('stopwords', 'NNS'), ('.', '.')]\n",
      "[('These', 'DT'), ('words', 'NNS'), ('appear', 'VBP'), ('often', 'RB'), ('’', 'JJ'), ('add', 'RB'), ('much', 'JJ'), ('meaning', 'NN'), ('sentences', 'NNS'), ('.', '.')]\n",
      "[('For', 'IN'), ('instance', 'NN'), (',', ','), ('I', 'PRP'), ('say', 'VBP'), (',', ','), ('The', 'DT'), ('cat', 'NN'), ('mat', 'NN'), (',', ','), ('important', 'JJ'), ('words', 'NNS'), ('cat', 'JJ'), ('mat', 'NN'), ('.', '.')]\n",
      "[('By', 'IN'), ('removing', 'VBG'), ('stopwords', 'NNS'), (',', ','), ('focus', 'VB'), ('heart', 'NN'), ('message', 'NN'), ('.', '.')]\n",
      "[('Whether', 'IN'), ('working', 'VBG'), ('sentences', 'NNS'), (',', ','), ('paragraphs', 'NN'), (',', ','), ('entire', 'JJ'), ('books', 'NNS'), (',', ','), ('filtering', 'VBG'), ('stopwords', 'NNS'), ('helps', 'VBZ'), ('us', 'PRP'), ('uncover', 'JJ'), ('true', 'JJ'), ('meaning', 'NN'), ('hidden', 'JJ'), ('text', 'NN'), ('.', '.')]\n",
      "[('So', 'RB'), (',', ','), ('explore', 'JJR'), ('power', 'NN'), ('words', 'NNS'), (',', ','), ('remember', 'VB'), (':', ':'), ('Sometimes', 'RB'), (',', ','), ('’', 'JJ'), ('words', 'NNS'), ('ideas', 'NNS'), ('behind', 'IN'), ('matter', 'NN'), ('.', '.')]\n",
      "[('Thank', 'NN'), ('!', '.')]\n"
     ]
    }
   ],
   "source": [
    "## we will find the pos tags\n",
    "\n",
    "for i in range(len(sentences)):\n",
    "    words=nltk.word_tokenize(sentences[i])\n",
    "    words=[word for word in words if word not in set(stopwords.words('english'))]\n",
    "    pos_tag=nltk.pos_tag(words)\n",
    "    print(pos_tag)"
   ]
  },
  {
   "cell_type": "code",
   "execution_count": 12,
   "id": "f9c71b48-042d-4e3a-aea9-ac2b5439de0c",
   "metadata": {},
   "outputs": [],
   "source": [
    "example=\"This is a simple statement saying I am Gautam Pai\""
   ]
  },
  {
   "cell_type": "code",
   "execution_count": 14,
   "id": "7daf8a25-8ac6-47df-8d41-59e6dbaf6d68",
   "metadata": {},
   "outputs": [
    {
     "name": "stdout",
     "output_type": "stream",
     "text": [
      "[('This', 'DT'), ('is', 'VBZ'), ('a', 'DT'), ('simple', 'JJ'), ('statement', 'NN'), ('saying', 'VBG'), ('I', 'PRP'), ('am', 'VBP'), ('Gautam', 'NNP'), ('Pai', 'NNP')]\n"
     ]
    }
   ],
   "source": [
    "## we will find the pos tags\n",
    "\n",
    "words=nltk.word_tokenize(example)\n",
    "pos_tags=nltk.pos_tag(words)\n",
    "print(pos_tags)"
   ]
  },
  {
   "cell_type": "code",
   "execution_count": null,
   "id": "8fd9d50c-152d-4bcf-b29b-81e74eddf492",
   "metadata": {},
   "outputs": [],
   "source": []
  }
 ],
 "metadata": {
  "kernelspec": {
   "display_name": "Python 3 (ipykernel)",
   "language": "python",
   "name": "python3"
  },
  "language_info": {
   "codemirror_mode": {
    "name": "ipython",
    "version": 3
   },
   "file_extension": ".py",
   "mimetype": "text/x-python",
   "name": "python",
   "nbconvert_exporter": "python",
   "pygments_lexer": "ipython3",
   "version": "3.12.4"
  }
 },
 "nbformat": 4,
 "nbformat_minor": 5
}
